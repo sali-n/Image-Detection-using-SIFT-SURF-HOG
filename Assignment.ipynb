{
 "cells": [
  {
   "cell_type": "code",
   "execution_count": 2,
   "id": "e6621e94",
   "metadata": {},
   "outputs": [],
   "source": [
    "import cv2\n",
    "import numpy as np\n",
    "from sklearn.cluster import KMeans\n",
    "from sklearn.preprocessing import StandardScaler\n",
    "from sklearn.neural_network import MLPClassifier\n",
    "from sklearn.ensemble import RandomForestClassifier\n",
    "from sklearn.metrics import accuracy_score\n",
    "from sklearn.model_selection import train_test_split\n",
    "from mahotas.features import surf\n",
    "import os"
   ]
  },
  {
   "cell_type": "code",
   "execution_count": 4,
   "id": "5994db26",
   "metadata": {},
   "outputs": [],
   "source": [
    "cat_images = []\n",
    "dog_images = []\n",
    "horse_images = []\n",
    "\n",
    "def load_images_from_folder(folder):\n",
    "    img_features = []\n",
    "    for filename in os.listdir(folder):\n",
    "        img = cv2.imread(os.path.join(folder, filename),cv2.IMREAD_GRAYSCALE)\n",
    "        img = cv2.resize(img,(120,120))\n",
    "        img_features.append(img)\n",
    "    return img_features\n",
    "\n",
    "cat_images = load_images_from_folder(\"D:\\data\\cats\")\n",
    "dog_images = load_images_from_folder(\"D:\\data\\dogs\")\n",
    "horse_images = load_images_from_folder(\"D:\\data\\horses\")"
   ]
  },
  {
   "cell_type": "code",
   "execution_count": 5,
   "id": "0dc8c95b",
   "metadata": {},
   "outputs": [],
   "source": [
    "def bagofwords(descriptors):\n",
    "    X = np.vstack(descriptors)\n",
    "    scaler = StandardScaler()\n",
    "    X = scaler.fit_transform(X)\n",
    "    kmeans = KMeans(n_clusters=100, random_state=42).fit(X)\n",
    "    # Initialize a bag-of-words dictionary\n",
    "    bow = np.zeros((len(descriptors), 100))\n",
    "\n",
    "    for i, features in enumerate(descriptors):\n",
    "        labels = kmeans.predict(features)\n",
    "        bow[i] = np.bincount(labels, minlength=100)\n",
    "    return bow"
   ]
  },
  {
   "cell_type": "code",
   "execution_count": 6,
   "id": "7039c1e0",
   "metadata": {},
   "outputs": [],
   "source": [
    "def get_sift_features(image):\n",
    "    sift = cv2.SIFT_create()\n",
    "    keypoints, descriptors = sift.detectAndCompute(image, None)\n",
    "    if descriptors is not None:\n",
    "            return descriptors\n",
    "            descriptors = np.mean(descriptors,axis=0)\n",
    "            return descriptors\n",
    "\n",
    "def get_surf_features(image):\n",
    "    descriptors = surf.surf(image)\n",
    "    if (descriptors is not None):\n",
    "        return descriptors\n",
    "        descriptors = np.mean(descriptors,axis=0)\n",
    "        return descriptors\n",
    "\n",
    "def get_hog_features(img):\n",
    "    cell_size = (16, 16)  # h x w in pixels\n",
    "    block_size = (2, 2)  # h x w in cells\n",
    "    nbins = 9  # number of orientation bins\n",
    "    hog = cv2.HOGDescriptor(_winSize=(img.shape[1] // cell_size[1] * cell_size[1],\n",
    "                                      img.shape[0] // cell_size[0] * cell_size[0]),\n",
    "                            _blockSize=(block_size[1] * cell_size[1],\n",
    "                                        block_size[0] * cell_size[0]),\n",
    "                            _blockStride=(cell_size[1], cell_size[0]),\n",
    "                            _cellSize=(cell_size[1], cell_size[0]),\n",
    "                            _nbins=nbins)\n",
    "    hog_feat = hog.compute(img)\n",
    "    return hog_feat.flatten()"
   ]
  },
  {
   "cell_type": "code",
   "execution_count": 7,
   "id": "ed97467d",
   "metadata": {},
   "outputs": [
    {
     "name": "stderr",
     "output_type": "stream",
     "text": [
      "C:\\Users\\Ali Syed\\AppData\\Local\\Temp\\ipykernel_18076\\2651460793.py:1: VisibleDeprecationWarning: Creating an ndarray from ragged nested sequences (which is a list-or-tuple of lists-or-tuples-or ndarrays with different lengths or shapes) is deprecated. If you meant to do this, you must specify 'dtype=object' when creating the ndarray.\n",
      "  cat_features_sift = np.array([get_sift_features(img) for img in cat_images])\n",
      "C:\\Users\\Ali Syed\\AppData\\Local\\Temp\\ipykernel_18076\\2651460793.py:2: VisibleDeprecationWarning: Creating an ndarray from ragged nested sequences (which is a list-or-tuple of lists-or-tuples-or ndarrays with different lengths or shapes) is deprecated. If you meant to do this, you must specify 'dtype=object' when creating the ndarray.\n",
      "  dog_features_sift = np.array([get_sift_features(img) for img in dog_images])\n",
      "C:\\Users\\Ali Syed\\AppData\\Local\\Temp\\ipykernel_18076\\2651460793.py:3: VisibleDeprecationWarning: Creating an ndarray from ragged nested sequences (which is a list-or-tuple of lists-or-tuples-or ndarrays with different lengths or shapes) is deprecated. If you meant to do this, you must specify 'dtype=object' when creating the ndarray.\n",
      "  horse_features_sift = np.array([get_sift_features(img) for img in horse_images])\n",
      "D:\\anac\\lib\\site-packages\\sklearn\\cluster\\_kmeans.py:870: FutureWarning: The default value of `n_init` will change from 10 to 'auto' in 1.4. Set the value of `n_init` explicitly to suppress the warning\n",
      "  warnings.warn(\n",
      "D:\\anac\\lib\\site-packages\\sklearn\\cluster\\_kmeans.py:870: FutureWarning: The default value of `n_init` will change from 10 to 'auto' in 1.4. Set the value of `n_init` explicitly to suppress the warning\n",
      "  warnings.warn(\n",
      "D:\\anac\\lib\\site-packages\\sklearn\\cluster\\_kmeans.py:870: FutureWarning: The default value of `n_init` will change from 10 to 'auto' in 1.4. Set the value of `n_init` explicitly to suppress the warning\n",
      "  warnings.warn(\n",
      "C:\\Users\\Ali Syed\\AppData\\Local\\Temp\\ipykernel_18076\\2651460793.py:9: VisibleDeprecationWarning: Creating an ndarray from ragged nested sequences (which is a list-or-tuple of lists-or-tuples-or ndarrays with different lengths or shapes) is deprecated. If you meant to do this, you must specify 'dtype=object' when creating the ndarray.\n",
      "  cat_features_surf = np.array([get_surf_features(img) for img in cat_images])\n",
      "C:\\Users\\Ali Syed\\AppData\\Local\\Temp\\ipykernel_18076\\2651460793.py:10: VisibleDeprecationWarning: Creating an ndarray from ragged nested sequences (which is a list-or-tuple of lists-or-tuples-or ndarrays with different lengths or shapes) is deprecated. If you meant to do this, you must specify 'dtype=object' when creating the ndarray.\n",
      "  dog_features_surf = np.array([get_surf_features(img) for img in dog_images])\n",
      "C:\\Users\\Ali Syed\\AppData\\Local\\Temp\\ipykernel_18076\\2651460793.py:11: VisibleDeprecationWarning: Creating an ndarray from ragged nested sequences (which is a list-or-tuple of lists-or-tuples-or ndarrays with different lengths or shapes) is deprecated. If you meant to do this, you must specify 'dtype=object' when creating the ndarray.\n",
      "  horse_features_surf = np.array([get_surf_features(img) for img in horse_images])\n",
      "D:\\anac\\lib\\site-packages\\sklearn\\cluster\\_kmeans.py:870: FutureWarning: The default value of `n_init` will change from 10 to 'auto' in 1.4. Set the value of `n_init` explicitly to suppress the warning\n",
      "  warnings.warn(\n",
      "D:\\anac\\lib\\site-packages\\sklearn\\cluster\\_kmeans.py:870: FutureWarning: The default value of `n_init` will change from 10 to 'auto' in 1.4. Set the value of `n_init` explicitly to suppress the warning\n",
      "  warnings.warn(\n",
      "D:\\anac\\lib\\site-packages\\sklearn\\cluster\\_kmeans.py:870: FutureWarning: The default value of `n_init` will change from 10 to 'auto' in 1.4. Set the value of `n_init` explicitly to suppress the warning\n",
      "  warnings.warn(\n"
     ]
    }
   ],
   "source": [
    "cat_features_sift = np.array([get_sift_features(img) for img in cat_images])\n",
    "dog_features_sift = np.array([get_sift_features(img) for img in dog_images])\n",
    "horse_features_sift = np.array([get_sift_features(img) for img in horse_images])\n",
    "cat_features_sift = bagofwords(cat_features_sift)\n",
    "dog_features_sift = bagofwords(dog_features_sift)\n",
    "horse_features_sift = bagofwords(horse_features_sift)\n",
    "\n",
    "\n",
    "cat_features_surf = np.array([get_surf_features(img) for img in cat_images])\n",
    "dog_features_surf = np.array([get_surf_features(img) for img in dog_images])\n",
    "horse_features_surf = np.array([get_surf_features(img) for img in horse_images])\n",
    "cat_features_surf = bagofwords(cat_features_surf)\n",
    "dog_features_surf = bagofwords(dog_features_surf)\n",
    "horse_features_surf = bagofwords(horse_features_surf)\n",
    "\n",
    "cat_features_hog = np.array([get_hog_features(img) for img in cat_images])\n",
    "dog_features_hog = np.array([get_hog_features(img) for img in dog_images])\n",
    "horse_features_hog = np.array([get_hog_features(img) for img in horse_images])\n"
   ]
  },
  {
   "cell_type": "code",
   "execution_count": 8,
   "id": "96b69b91",
   "metadata": {},
   "outputs": [],
   "source": [
    "X_sift = np.concatenate([cat_features_sift, dog_features_sift, horse_features_sift])\n",
    "X_surf = np.concatenate([cat_features_surf, dog_features_surf, horse_features_surf])\n",
    "X_hog = np.concatenate([cat_features_hog, dog_features_hog, horse_features_hog])\n",
    "y = np.concatenate([np.zeros((len(cat_features_sift),)),np.ones((len(dog_features_sift),))*2,np.ones((len(horse_features_sift),))*2])"
   ]
  },
  {
   "cell_type": "code",
   "execution_count": 1,
   "id": "639b0d2e",
   "metadata": {},
   "outputs": [
    {
     "ename": "NameError",
     "evalue": "name 'train_test_split' is not defined",
     "output_type": "error",
     "traceback": [
      "\u001b[1;31m---------------------------------------------------------------------------\u001b[0m",
      "\u001b[1;31mNameError\u001b[0m                                 Traceback (most recent call last)",
      "Cell \u001b[1;32mIn[1], line 1\u001b[0m\n\u001b[1;32m----> 1\u001b[0m X_train_sift, X_test_sift, y_train_sift, y_test_sift \u001b[38;5;241m=\u001b[39m \u001b[43mtrain_test_split\u001b[49m(X_sift, y, test_size\u001b[38;5;241m=\u001b[39m\u001b[38;5;241m0.3\u001b[39m, random_state\u001b[38;5;241m=\u001b[39m\u001b[38;5;241m42\u001b[39m)\n\u001b[0;32m      2\u001b[0m X_train_surf, X_test_surf, y_train_surf, y_test_surf \u001b[38;5;241m=\u001b[39m train_test_split(X_surf, y, test_size\u001b[38;5;241m=\u001b[39m\u001b[38;5;241m0.3\u001b[39m, random_state\u001b[38;5;241m=\u001b[39m\u001b[38;5;241m42\u001b[39m)\n\u001b[0;32m      3\u001b[0m X_train_hog, X_test_hog, y_train_hog, y_test_hog \u001b[38;5;241m=\u001b[39m train_test_split(X_hog, y, test_size\u001b[38;5;241m=\u001b[39m\u001b[38;5;241m0.3\u001b[39m, random_state\u001b[38;5;241m=\u001b[39m\u001b[38;5;241m42\u001b[39m)\n",
      "\u001b[1;31mNameError\u001b[0m: name 'train_test_split' is not defined"
     ]
    }
   ],
   "source": [
    "X_train_sift, X_test_sift, y_train_sift, y_test_sift = train_test_split(X_sift, y, test_size=0.3, random_state=42)\n",
    "X_train_surf, X_test_surf, y_train_surf, y_test_surf = train_test_split(X_surf, y, test_size=0.3, random_state=42)\n",
    "X_train_hog, X_test_hog, y_train_hog, y_test_hog = train_test_split(X_hog, y, test_size=0.3, random_state=42)"
   ]
  },
  {
   "cell_type": "code",
   "execution_count": 9,
   "id": "7c2a1cbe",
   "metadata": {},
   "outputs": [],
   "source": [
    "models = {\n",
    "    'ANN':MLPClassifier(hidden_layer_sizes=(100,), max_iter=2000, alpha=0.0001, solver='adam', random_state=42),\n",
    "    'RF':RandomForestClassifier(n_estimators=100, max_depth=10, random_state=42)\n",
    "}\n",
    "#'surf':[X_train_surf, X_test_surf, y_train_surf, y_test_surf]\n",
    "category = {'sift': [X_train_sift,X_test_sift,y_train_sift,y_test_sift],'surf':[X_train_surf, X_test_surf, y_train_surf, y_test_surf], 'hog':[X_train_hog,X_test_hog,y_train_hog,y_test_hog]}"
   ]
  },
  {
   "cell_type": "code",
   "execution_count": 10,
   "id": "d49953ae",
   "metadata": {},
   "outputs": [
    {
     "name": "stdout",
     "output_type": "stream",
     "text": [
      "ANN + sift : 0.9590163934426229\n",
      "ANN + surf : 1.0\n",
      "ANN + hog  : 0.7704918032786885\n",
      "RF  + sift : 0.8278688524590164\n",
      "RF  + surf : 1.0\n",
      "RF  + hog  : 0.7131147540983607\n"
     ]
    }
   ],
   "source": [
    "for i in models:\n",
    "    for k in category:\n",
    "        a = models[i]\n",
    "        a.fit(category[k][0], category[k][2])\n",
    "        y_pred_mlp = a.predict(category[k][1])\n",
    "        accuracy_mlp = accuracy_score(category[k][3], y_pred_mlp)\n",
    "        print(f'{i:4}+ {k:5}:', accuracy_mlp)"
   ]
  },
  {
   "cell_type": "code",
   "execution_count": null,
   "id": "85aec499",
   "metadata": {},
   "outputs": [],
   "source": []
  }
 ],
 "metadata": {
  "kernelspec": {
   "display_name": "Python 3 (ipykernel)",
   "language": "python",
   "name": "python3"
  },
  "language_info": {
   "codemirror_mode": {
    "name": "ipython",
    "version": 3
   },
   "file_extension": ".py",
   "mimetype": "text/x-python",
   "name": "python",
   "nbconvert_exporter": "python",
   "pygments_lexer": "ipython3",
   "version": "3.10.9"
  }
 },
 "nbformat": 4,
 "nbformat_minor": 5
}
